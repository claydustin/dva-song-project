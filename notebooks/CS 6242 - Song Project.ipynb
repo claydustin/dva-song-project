{
 "cells": [
  {
   "cell_type": "code",
   "execution_count": 1,
   "id": "916d8eae",
   "metadata": {},
   "outputs": [],
   "source": [
    "import pandas as pd\n",
    "from collections import Counter, defaultdict\n",
    "import itertools\n",
    "import random\n",
    "import matplotlib.pyplot as plt\n",
    "import more_itertools\n",
    "import seaborn as sns\n",
    "import csv"
   ]
  },
  {
   "cell_type": "code",
   "execution_count": 2,
   "id": "39ed05c4",
   "metadata": {},
   "outputs": [],
   "source": [
    "import nltk\n",
    "from nltk.stem.porter import PorterStemmer\n",
    "from nltk.stem.snowball import SnowballStemmer\n",
    "from nltk.corpus import brown\n",
    "import re\n",
    "from sklearn.feature_extraction import text## Stop words list"
   ]
  },
  {
   "cell_type": "code",
   "execution_count": 3,
   "id": "7e744fb5",
   "metadata": {},
   "outputs": [],
   "source": [
    "from sklearn.metrics.pairwise import cosine_similarity\n",
    "from sklearn.feature_extraction.text import CountVectorizer, TfidfVectorizer"
   ]
  },
  {
   "cell_type": "code",
   "execution_count": 4,
   "id": "cfec33ca",
   "metadata": {},
   "outputs": [],
   "source": [
    "from sklearn.preprocessing import MinMaxScaler\n",
    "from sklearn.preprocessing import StandardScaler"
   ]
  },
  {
   "cell_type": "markdown",
   "id": "fe7a78f9",
   "metadata": {},
   "source": [
    "## 0. Pre-Processing - Remove Stop Words and Tokenize"
   ]
  },
  {
   "cell_type": "code",
   "execution_count": 6,
   "id": "418a5028",
   "metadata": {},
   "outputs": [
    {
     "name": "stderr",
     "output_type": "stream",
     "text": [
      "C:\\Users\\18438\\AppData\\Local\\Temp/ipykernel_18376/2218329103.py:2: FutureWarning: In a future version of pandas all arguments of DataFrame.drop except for the argument 'labels' will be keyword-only\n",
      "  df_raw.drop(['Unnamed: 0','Unnamed: 5', 'Unnamed: 6'], 1, inplace=True)\n"
     ]
    }
   ],
   "source": [
    "df_raw = pd.read_csv(\"../input/joined_data.csv\")\n",
    "df_raw.drop(['Unnamed: 0','Unnamed: 5', 'Unnamed: 6'], 1, inplace=True)"
   ]
  },
  {
   "cell_type": "code",
   "execution_count": 35,
   "id": "af64f49c",
   "metadata": {},
   "outputs": [
    {
     "name": "stdout",
     "output_type": "stream",
     "text": [
      "142643 \t Total Rows\n",
      "140323 \t Total Non-Duplicate Rows\n",
      "94117 \t Total Rows of Non-Duplicate Band/Songs\n"
     ]
    }
   ],
   "source": [
    "print(f\"{len(df_raw)} \\t Total Rows\")\n",
    "print(f\"{len(df_raw.drop_duplicates())} \\t Total Non-Duplicate Rows\")\n",
    "print(f\"{len(df_raw.drop_duplicates(subset = ['cleaned_song', 'cleaned_band']))} \\t Total Rows of Non-Duplicate Band/Songs\")"
   ]
  },
  {
   "cell_type": "code",
   "execution_count": 9,
   "id": "357ff74f",
   "metadata": {},
   "outputs": [],
   "source": [
    "i = pd.read_csv(\"../input/stop words.csv\", encoding='unicode_escape')['stop word'].tolist()\n",
    "j = list(\",.!#[]/'\")\n",
    "\n",
    "stopwords = set(i).union(j)"
   ]
  },
  {
   "cell_type": "code",
   "execution_count": 10,
   "id": "4a411f46",
   "metadata": {},
   "outputs": [],
   "source": [
    "def preprocess(x):\n",
    "    x = re.sub('[^a-z\\s]', '', str(x).lower()) # COMMENT: semi-equivalent to Baharks code: x.strip(\",.!#[];\\\"\\\"\\/\\'\\\\()!?$*+-><_~1234567890&:=^`\")\n",
    "    x = [w for w in x.split() if w not in stopwords]\n",
    "    \n",
    "    return ' '.join(x) or None"
   ]
  },
  {
   "cell_type": "code",
   "execution_count": 11,
   "id": "377bcec6",
   "metadata": {},
   "outputs": [
    {
     "name": "stderr",
     "output_type": "stream",
     "text": [
      "C:\\Users\\18438\\AppData\\Local\\Temp/ipykernel_18376/2977327710.py:1: SettingWithCopyWarning: \n",
      "A value is trying to be set on a copy of a slice from a DataFrame.\n",
      "Try using .loc[row_indexer,col_indexer] = value instead\n",
      "\n",
      "See the caveats in the documentation: https://pandas.pydata.org/pandas-docs/stable/user_guide/indexing.html#returning-a-view-versus-a-copy\n",
      "  df['cleaned_lyrics'] = df.apply(lambda x: preprocess(x.Lyrics), axis = 1)\n",
      "C:\\Users\\18438\\AppData\\Local\\Programs\\Python\\Python39\\lib\\site-packages\\pandas\\util\\_decorators.py:311: SettingWithCopyWarning: \n",
      "A value is trying to be set on a copy of a slice from a DataFrame\n",
      "\n",
      "See the caveats in the documentation: https://pandas.pydata.org/pandas-docs/stable/user_guide/indexing.html#returning-a-view-versus-a-copy\n",
      "  return func(*args, **kwargs)\n"
     ]
    }
   ],
   "source": [
    "df['cleaned_lyrics'] = df.apply(lambda x: preprocess(x.Lyrics), axis = 1)\n",
    "df.dropna(subset=['cleaned_lyrics'], inplace=True)"
   ]
  },
  {
   "cell_type": "markdown",
   "id": "8dc12e88",
   "metadata": {},
   "source": [
    "### 0.1 Censor profanity, Edit \"TRUE\" and \"FALSE\", Stem, Lemmatize"
   ]
  },
  {
   "cell_type": "code",
   "execution_count": 12,
   "id": "02b4818d",
   "metadata": {},
   "outputs": [
    {
     "name": "stderr",
     "output_type": "stream",
     "text": [
      "C:\\Users\\18438\\AppData\\Local\\Temp/ipykernel_18376/825246250.py:3: SettingWithCopyWarning: \n",
      "A value is trying to be set on a copy of a slice from a DataFrame.\n",
      "Try using .loc[row_indexer,col_indexer] = value instead\n",
      "\n",
      "See the caveats in the documentation: https://pandas.pydata.org/pandas-docs/stable/user_guide/indexing.html#returning-a-view-versus-a-copy\n",
      "  df['stemmed_lyrics'] = df['cleaned_lyrics'].apply(lambda x: ' '.join([stemmer.stem(y) for y in nltk.word_tokenize(x)]))\n",
      "C:\\Users\\18438\\AppData\\Local\\Temp/ipykernel_18376/825246250.py:6: SettingWithCopyWarning: \n",
      "A value is trying to be set on a copy of a slice from a DataFrame.\n",
      "Try using .loc[row_indexer,col_indexer] = value instead\n",
      "\n",
      "See the caveats in the documentation: https://pandas.pydata.org/pandas-docs/stable/user_guide/indexing.html#returning-a-view-versus-a-copy\n",
      "  df['cleaned_lyrics'] = df['cleaned_lyrics'].str.replace('TRUE','true')\n",
      "C:\\Users\\18438\\AppData\\Local\\Temp/ipykernel_18376/825246250.py:7: SettingWithCopyWarning: \n",
      "A value is trying to be set on a copy of a slice from a DataFrame.\n",
      "Try using .loc[row_indexer,col_indexer] = value instead\n",
      "\n",
      "See the caveats in the documentation: https://pandas.pydata.org/pandas-docs/stable/user_guide/indexing.html#returning-a-view-versus-a-copy\n",
      "  df['cleaned_lyrics'] = df['cleaned_lyrics'].str.replace('FALSE','false')\n",
      "C:\\Users\\18438\\AppData\\Local\\Temp/ipykernel_18376/825246250.py:8: SettingWithCopyWarning: \n",
      "A value is trying to be set on a copy of a slice from a DataFrame.\n",
      "Try using .loc[row_indexer,col_indexer] = value instead\n",
      "\n",
      "See the caveats in the documentation: https://pandas.pydata.org/pandas-docs/stable/user_guide/indexing.html#returning-a-view-versus-a-copy\n",
      "  df['stemmed_lyrics'] = df['stemmed_lyrics'].str.replace('TRUE','true')\n",
      "C:\\Users\\18438\\AppData\\Local\\Temp/ipykernel_18376/825246250.py:9: SettingWithCopyWarning: \n",
      "A value is trying to be set on a copy of a slice from a DataFrame.\n",
      "Try using .loc[row_indexer,col_indexer] = value instead\n",
      "\n",
      "See the caveats in the documentation: https://pandas.pydata.org/pandas-docs/stable/user_guide/indexing.html#returning-a-view-versus-a-copy\n",
      "  df['stemmed_lyrics'] = df['stemmed_lyrics'].str.replace('FALSE','false')\n",
      "C:\\Users\\18438\\AppData\\Local\\Temp/ipykernel_18376/825246250.py:13: FutureWarning: The default value of regex will change from True to False in a future version.\n",
      "  profane_words['edited_words'] = profane_words['words'].str.replace(r'\\B[aeiou]\\B','*')\n",
      "C:\\Users\\18438\\AppData\\Local\\Temp/ipykernel_18376/825246250.py:17: SettingWithCopyWarning: \n",
      "A value is trying to be set on a copy of a slice from a DataFrame.\n",
      "Try using .loc[row_indexer,col_indexer] = value instead\n",
      "\n",
      "See the caveats in the documentation: https://pandas.pydata.org/pandas-docs/stable/user_guide/indexing.html#returning-a-view-versus-a-copy\n",
      "  df['cleaned_lyrics'] = df['cleaned_lyrics'].str.replace(tup[0],tup[1])\n",
      "C:\\Users\\18438\\AppData\\Local\\Temp/ipykernel_18376/825246250.py:18: SettingWithCopyWarning: \n",
      "A value is trying to be set on a copy of a slice from a DataFrame.\n",
      "Try using .loc[row_indexer,col_indexer] = value instead\n",
      "\n",
      "See the caveats in the documentation: https://pandas.pydata.org/pandas-docs/stable/user_guide/indexing.html#returning-a-view-versus-a-copy\n",
      "  df['stemmed_lyrics'] = df['stemmed_lyrics'].str.replace(tup[0],tup[1])\n"
     ]
    }
   ],
   "source": [
    "# Stem the lyrics\n",
    "stemmer = SnowballStemmer(\"english\")\n",
    "df['stemmed_lyrics'] = df['cleaned_lyrics'].apply(lambda x: ' '.join([stemmer.stem(y) for y in nltk.word_tokenize(x)]))\n",
    "\n",
    "# Convert \"TRUE\" and \"FALSE\" to \"true\" and \"false\"\n",
    "df['cleaned_lyrics'] = df['cleaned_lyrics'].str.replace('TRUE','true')\n",
    "df['cleaned_lyrics'] = df['cleaned_lyrics'].str.replace('FALSE','false')\n",
    "df['stemmed_lyrics'] = df['stemmed_lyrics'].str.replace('TRUE','true')\n",
    "df['stemmed_lyrics'] = df['stemmed_lyrics'].str.replace('FALSE','false')\n",
    "\n",
    "# Edit profanity by replacing words with versions where vowels are replaced by asteriks\n",
    "profane_words = pd.read_table('../input/profane_words.txt', names=['words'])\n",
    "profane_words['edited_words'] = profane_words['words'].str.replace(r'\\B[aeiou]\\B','*')\n",
    "profane_words['profane_tuple'] = list(zip(profane_words['words'], profane_words['edited_words']))\n",
    "# Editing 'cleaned_lyrics'\n",
    "for tup in profane_words['profane_tuple']:\n",
    "    df['cleaned_lyrics'] = df['cleaned_lyrics'].str.replace(tup[0],tup[1])\n",
    "    df['stemmed_lyrics'] = df['stemmed_lyrics'].str.replace(tup[0],tup[1])\n"
   ]
  },
  {
   "cell_type": "markdown",
   "id": "eda82965",
   "metadata": {},
   "source": [
    "## 1. Remove Non-English Songs"
   ]
  },
  {
   "cell_type": "code",
   "execution_count": 13,
   "id": "1ecbbf51",
   "metadata": {},
   "outputs": [
    {
     "name": "stderr",
     "output_type": "stream",
     "text": [
      "C:\\Users\\18438\\AppData\\Local\\Temp/ipykernel_18376/2950660547.py:6: DeprecationWarning: Sampling from a set deprecated\n",
      "since Python 3.9 and will be removed in a subsequent version.\n",
      "  listed_lyrics = random.sample(set(lyrics.split()), sample_size)\n",
      "C:\\Users\\18438\\AppData\\Local\\Temp/ipykernel_18376/2950660547.py:11: SettingWithCopyWarning: \n",
      "A value is trying to be set on a copy of a slice from a DataFrame.\n",
      "Try using .loc[row_indexer,col_indexer] = value instead\n",
      "\n",
      "See the caveats in the documentation: https://pandas.pydata.org/pandas-docs/stable/user_guide/indexing.html#returning-a-view-versus-a-copy\n",
      "  df['english_percentage'] = df.apply(lambda x: classify_english_songs(x.cleaned_lyrics), axis = 1)\n"
     ]
    }
   ],
   "source": [
    "english_words = set(brown.words()) ## Cache\n",
    "\n",
    "def classify_english_songs(lyrics):\n",
    "    unique_words = set(lyrics.split())\n",
    "    sample_size = min(50, len(unique_words))\n",
    "    listed_lyrics = random.sample(set(lyrics.split()), sample_size)\n",
    "    english_lyrics = [w for w in listed_lyrics if w in english_words]\n",
    "    \n",
    "    return len(english_lyrics)/sample_size\n",
    "   \n",
    "df['english_percentage'] = df.apply(lambda x: classify_english_songs(x.cleaned_lyrics), axis = 1)"
   ]
  },
  {
   "cell_type": "code",
   "execution_count": 14,
   "id": "7cf42804",
   "metadata": {},
   "outputs": [
    {
     "data": {
      "text/plain": [
       "(array([ 3062.,  2433.,  1070.,   235.,   263.,  1077.,  3294.,  8078.,\n",
       "        26052., 48509.]),\n",
       " array([0. , 0.1, 0.2, 0.3, 0.4, 0.5, 0.6, 0.7, 0.8, 0.9, 1. ]),\n",
       " <BarContainer object of 10 artists>)"
      ]
     },
     "execution_count": 14,
     "metadata": {},
     "output_type": "execute_result"
    },
    {
     "data": {
      "image/png": "[encoded data removed]",
      "text/plain": [
       "<Figure size 432x288 with 1 Axes>"
      ]
     },
     "metadata": {
      "needs_background": "light"
     },
     "output_type": "display_data"
    }
   ],
   "source": [
    "plt.hist(df['english_percentage'], 10)"
   ]
  },
  {
   "cell_type": "code",
   "execution_count": 15,
   "id": "a72d612e",
   "metadata": {},
   "outputs": [
    {
     "name": "stdout",
     "output_type": "stream",
     "text": [
      "Removed 7897 Non-English Songs\n"
     ]
    }
   ],
   "source": [
    "#df[df['english_percentage'] < .6].to_csv(\"non_english_songs.csv\", index=False)\n",
    "print(f\"Removed {len(df[df['english_percentage'] < .6])} Non-English Songs\")\n",
    "df = df[df['english_percentage'] > .6]"
   ]
  },
  {
   "cell_type": "markdown",
   "id": "3733bd19",
   "metadata": {},
   "source": [
    "## 2. Deduping song covers"
   ]
  },
  {
   "cell_type": "code",
   "execution_count": 16,
   "id": "ccc5b318",
   "metadata": {
    "scrolled": true
   },
   "outputs": [
    {
     "name": "stdout",
     "output_type": "stream",
     "text": [
      "5132.0\n"
     ]
    },
    {
     "data": {
      "text/html": [
       "<div>\n",
       "<style scoped>\n",
       "    .dataframe tbody tr th:only-of-type {\n",
       "        vertical-align: middle;\n",
       "    }\n",
       "\n",
       "    .dataframe tbody tr th {\n",
       "        vertical-align: top;\n",
       "    }\n",
       "\n",
       "    .dataframe thead th {\n",
       "        text-align: right;\n",
       "    }\n",
       "</style>\n",
       "<table border=\"1\" class=\"dataframe\">\n",
       "  <thead>\n",
       "    <tr style=\"text-align: right;\">\n",
       "      <th></th>\n",
       "      <th>Band</th>\n",
       "      <th>cleaned_band</th>\n",
       "      <th>Lyrics</th>\n",
       "      <th>Song</th>\n",
       "      <th>cleaned_song</th>\n",
       "      <th>Column</th>\n",
       "      <th>title</th>\n",
       "      <th>cleaned_title</th>\n",
       "      <th>artist_name</th>\n",
       "      <th>cleaned_artist_name</th>\n",
       "      <th>duration</th>\n",
       "      <th>year</th>\n",
       "      <th>cleaned_lyrics</th>\n",
       "      <th>stemmed_lyrics</th>\n",
       "      <th>english_percentage</th>\n",
       "    </tr>\n",
       "  </thead>\n",
       "  <tbody>\n",
       "    <tr>\n",
       "      <th>108095</th>\n",
       "      <td>Gram Parsons</td>\n",
       "      <td>gramparsons</td>\n",
       "      <td>Was one thousand dollars wedding, supposed to ...</td>\n",
       "      <td>$1000 wedding</td>\n",
       "      <td>1000wedding</td>\n",
       "      <td>6154</td>\n",
       "      <td>$1000 wedding</td>\n",
       "      <td>1000wedding</td>\n",
       "      <td>gram parsons</td>\n",
       "      <td>gramparsons</td>\n",
       "      <td>303.17669</td>\n",
       "      <td>1974</td>\n",
       "      <td>dollars wedding supposed held day invitations ...</td>\n",
       "      <td>dollar wed suppos held day invit young bride g...</td>\n",
       "      <td>0.940000</td>\n",
       "    </tr>\n",
       "    <tr>\n",
       "      <th>15427</th>\n",
       "      <td>Willie Nelson</td>\n",
       "      <td>willienelson</td>\n",
       "      <td>It was a $1000 wedding supposed to be held the...</td>\n",
       "      <td>$1000 wedding</td>\n",
       "      <td>1000wedding</td>\n",
       "      <td>460780</td>\n",
       "      <td>$ 1000 wedding</td>\n",
       "      <td>1000wedding</td>\n",
       "      <td>willie nelson</td>\n",
       "      <td>willienelson</td>\n",
       "      <td>185.02485</td>\n",
       "      <td>2006</td>\n",
       "      <td>wedding supposed held day invitations young br...</td>\n",
       "      <td>wed suppos held day invit young bride groom pe...</td>\n",
       "      <td>0.920000</td>\n",
       "    </tr>\n",
       "    <tr>\n",
       "      <th>86778</th>\n",
       "      <td>Caliban</td>\n",
       "      <td>caliban</td>\n",
       "      <td>A hundred suns, born to kill\\nIt is madness, a...</td>\n",
       "      <td>100 suns</td>\n",
       "      <td>100suns</td>\n",
       "      <td>157595</td>\n",
       "      <td>100 suns (album version)</td>\n",
       "      <td>100suns</td>\n",
       "      <td>caliban</td>\n",
       "      <td>caliban</td>\n",
       "      <td>236.27710</td>\n",
       "      <td>2004</td>\n",
       "      <td>suns born kill madness sun created man pervers...</td>\n",
       "      <td>sun born kill mad sun creat man pervers ironi ...</td>\n",
       "      <td>0.862069</td>\n",
       "    </tr>\n",
       "    <tr>\n",
       "      <th>140335</th>\n",
       "      <td>30 Seconds to Mars</td>\n",
       "      <td>30secondstomars</td>\n",
       "      <td>I believe in nothing\\nNot the end and not the ...</td>\n",
       "      <td>100 suns</td>\n",
       "      <td>100suns</td>\n",
       "      <td>273910</td>\n",
       "      <td>100 suns</td>\n",
       "      <td>100suns</td>\n",
       "      <td>30 seconds to mars</td>\n",
       "      <td>30secondstomars</td>\n",
       "      <td>117.49832</td>\n",
       "      <td>2009</td>\n",
       "      <td>start earth stars day dark beating hearts suns...</td>\n",
       "      <td>start earth star day dark beat heart sun sin g...</td>\n",
       "      <td>1.000000</td>\n",
       "    </tr>\n",
       "    <tr>\n",
       "      <th>75833</th>\n",
       "      <td>Young Dro</td>\n",
       "      <td>youngdro</td>\n",
       "      <td>Young Dro\\nY'all already know what it is when ...</td>\n",
       "      <td>100 yard dash</td>\n",
       "      <td>100yarddash</td>\n",
       "      <td>223340</td>\n",
       "      <td>100 yard dash (featuring xtaci) (explicit albu...</td>\n",
       "      <td>100yarddash</td>\n",
       "      <td>young dro</td>\n",
       "      <td>youngdro</td>\n",
       "      <td>179.53914</td>\n",
       "      <td>2006</td>\n",
       "      <td>young dro yall ecstasy dis grand hustle aye n*...</td>\n",
       "      <td>young dro yall ecstasi dis grand hustl aye n*g...</td>\n",
       "      <td>0.680000</td>\n",
       "    </tr>\n",
       "    <tr>\n",
       "      <th>...</th>\n",
       "      <td>...</td>\n",
       "      <td>...</td>\n",
       "      <td>...</td>\n",
       "      <td>...</td>\n",
       "      <td>...</td>\n",
       "      <td>...</td>\n",
       "      <td>...</td>\n",
       "      <td>...</td>\n",
       "      <td>...</td>\n",
       "      <td>...</td>\n",
       "      <td>...</td>\n",
       "      <td>...</td>\n",
       "      <td>...</td>\n",
       "      <td>...</td>\n",
       "      <td>...</td>\n",
       "    </tr>\n",
       "    <tr>\n",
       "      <th>72775</th>\n",
       "      <td>Sonata Arctica</td>\n",
       "      <td>sonataarctica</td>\n",
       "      <td>Dancing on the borderline\\n4-3-2-1\\n\\nHello, a...</td>\n",
       "      <td>zeroes</td>\n",
       "      <td>zeroes</td>\n",
       "      <td>2305</td>\n",
       "      <td>zeroes</td>\n",
       "      <td>zeroes</td>\n",
       "      <td>sonata arctica</td>\n",
       "      <td>sonataarctica</td>\n",
       "      <td>263.73179</td>\n",
       "      <td>2009</td>\n",
       "      <td>dancing borderline static fighting wars dwell ...</td>\n",
       "      <td>danc borderlin static fight war dwell hypocris...</td>\n",
       "      <td>0.880000</td>\n",
       "    </tr>\n",
       "    <tr>\n",
       "      <th>29751</th>\n",
       "      <td>Kottonmouth Kings</td>\n",
       "      <td>kottonmouthkings</td>\n",
       "      <td>The war on drugs is a war on me and if its not...</td>\n",
       "      <td>zero tolerance</td>\n",
       "      <td>zerotolerance</td>\n",
       "      <td>337969</td>\n",
       "      <td>zero tolerance</td>\n",
       "      <td>zerotolerance</td>\n",
       "      <td>kottonmouth kings</td>\n",
       "      <td>kottonmouthkings</td>\n",
       "      <td>188.62975</td>\n",
       "      <td>2002</td>\n",
       "      <td>war drugs war brave land free plant freedom ri...</td>\n",
       "      <td>war drug war brave land free plant freedom rin...</td>\n",
       "      <td>0.640000</td>\n",
       "    </tr>\n",
       "    <tr>\n",
       "      <th>18626</th>\n",
       "      <td>The Bluetones</td>\n",
       "      <td>thebluetones</td>\n",
       "      <td>It was in those wonder-lust years, after I'd j...</td>\n",
       "      <td>zero tolerance</td>\n",
       "      <td>zerotolerance</td>\n",
       "      <td>418728</td>\n",
       "      <td>zero tolerance</td>\n",
       "      <td>zerotolerance</td>\n",
       "      <td>the bluetones</td>\n",
       "      <td>thebluetones</td>\n",
       "      <td>228.04853</td>\n",
       "      <td>2000</td>\n",
       "      <td>wonderlust years left school started notice ch...</td>\n",
       "      <td>wonderlust year left school start notic chang ...</td>\n",
       "      <td>0.780000</td>\n",
       "    </tr>\n",
       "    <tr>\n",
       "      <th>89118</th>\n",
       "      <td>Tata Young</td>\n",
       "      <td>tatayoung</td>\n",
       "      <td>Zoom Zoom in under my skin\\nGotta slow down no...</td>\n",
       "      <td>zoom</td>\n",
       "      <td>zoom</td>\n",
       "      <td>4403</td>\n",
       "      <td>zoom</td>\n",
       "      <td>zoom</td>\n",
       "      <td>tata young</td>\n",
       "      <td>tatayoung</td>\n",
       "      <td>198.47791</td>\n",
       "      <td>2006</td>\n",
       "      <td>zoom zoom skin slow baby rush touch videos sto...</td>\n",
       "      <td>zoom zoom skin slow babi rush touch video stor...</td>\n",
       "      <td>0.885714</td>\n",
       "    </tr>\n",
       "    <tr>\n",
       "      <th>111258</th>\n",
       "      <td>Commodores</td>\n",
       "      <td>commodores</td>\n",
       "      <td>I may be just a foolish dreamer\\nBut I don't c...</td>\n",
       "      <td>zoom</td>\n",
       "      <td>zoom</td>\n",
       "      <td>224059</td>\n",
       "      <td>zoom</td>\n",
       "      <td>zoom</td>\n",
       "      <td>commodores</td>\n",
       "      <td>commodores</td>\n",
       "      <td>398.73261</td>\n",
       "      <td>1977</td>\n",
       "      <td>foolish dreamer care happiness waiting searchi...</td>\n",
       "      <td>foolish dreamer care happi wait search silver ...</td>\n",
       "      <td>0.897959</td>\n",
       "    </tr>\n",
       "  </tbody>\n",
       "</table>\n",
       "<p>10264 rows × 15 columns</p>\n",
       "</div>"
      ],
      "text/plain": [
       "                      Band      cleaned_band  \\\n",
       "108095        Gram Parsons       gramparsons   \n",
       "15427        Willie Nelson      willienelson   \n",
       "86778              Caliban           caliban   \n",
       "140335  30 Seconds to Mars   30secondstomars   \n",
       "75833            Young Dro          youngdro   \n",
       "...                    ...               ...   \n",
       "72775       Sonata Arctica     sonataarctica   \n",
       "29751    Kottonmouth Kings  kottonmouthkings   \n",
       "18626        The Bluetones      thebluetones   \n",
       "89118           Tata Young         tatayoung   \n",
       "111258          Commodores        commodores   \n",
       "\n",
       "                                                   Lyrics            Song  \\\n",
       "108095  Was one thousand dollars wedding, supposed to ...   $1000 wedding   \n",
       "15427   It was a $1000 wedding supposed to be held the...   $1000 wedding   \n",
       "86778   A hundred suns, born to kill\\nIt is madness, a...        100 suns   \n",
       "140335  I believe in nothing\\nNot the end and not the ...        100 suns   \n",
       "75833   Young Dro\\nY'all already know what it is when ...   100 yard dash   \n",
       "...                                                   ...             ...   \n",
       "72775   Dancing on the borderline\\n4-3-2-1\\n\\nHello, a...          zeroes   \n",
       "29751   The war on drugs is a war on me and if its not...  zero tolerance   \n",
       "18626   It was in those wonder-lust years, after I'd j...  zero tolerance   \n",
       "89118   Zoom Zoom in under my skin\\nGotta slow down no...            zoom   \n",
       "111258  I may be just a foolish dreamer\\nBut I don't c...            zoom   \n",
       "\n",
       "         cleaned_song  Column  \\\n",
       "108095    1000wedding    6154   \n",
       "15427     1000wedding  460780   \n",
       "86778         100suns  157595   \n",
       "140335        100suns  273910   \n",
       "75833     100yarddash  223340   \n",
       "...               ...     ...   \n",
       "72775          zeroes    2305   \n",
       "29751   zerotolerance  337969   \n",
       "18626   zerotolerance  418728   \n",
       "89118            zoom    4403   \n",
       "111258           zoom  224059   \n",
       "\n",
       "                                                    title  cleaned_title  \\\n",
       "108095                                      $1000 wedding    1000wedding   \n",
       "15427                                      $ 1000 wedding    1000wedding   \n",
       "86778                            100 suns (album version)        100suns   \n",
       "140335                                           100 suns        100suns   \n",
       "75833   100 yard dash (featuring xtaci) (explicit albu...    100yarddash   \n",
       "...                                                   ...            ...   \n",
       "72775                                              zeroes         zeroes   \n",
       "29751                                      zero tolerance  zerotolerance   \n",
       "18626                                      zero tolerance  zerotolerance   \n",
       "89118                                                zoom           zoom   \n",
       "111258                                               zoom           zoom   \n",
       "\n",
       "               artist_name cleaned_artist_name   duration  year  \\\n",
       "108095        gram parsons         gramparsons  303.17669  1974   \n",
       "15427        willie nelson        willienelson  185.02485  2006   \n",
       "86778              caliban             caliban  236.27710  2004   \n",
       "140335  30 seconds to mars     30secondstomars  117.49832  2009   \n",
       "75833            young dro            youngdro  179.53914  2006   \n",
       "...                    ...                 ...        ...   ...   \n",
       "72775       sonata arctica       sonataarctica  263.73179  2009   \n",
       "29751    kottonmouth kings    kottonmouthkings  188.62975  2002   \n",
       "18626        the bluetones        thebluetones  228.04853  2000   \n",
       "89118           tata young           tatayoung  198.47791  2006   \n",
       "111258          commodores          commodores  398.73261  1977   \n",
       "\n",
       "                                           cleaned_lyrics  \\\n",
       "108095  dollars wedding supposed held day invitations ...   \n",
       "15427   wedding supposed held day invitations young br...   \n",
       "86778   suns born kill madness sun created man pervers...   \n",
       "140335  start earth stars day dark beating hearts suns...   \n",
       "75833   young dro yall ecstasy dis grand hustle aye n*...   \n",
       "...                                                   ...   \n",
       "72775   dancing borderline static fighting wars dwell ...   \n",
       "29751   war drugs war brave land free plant freedom ri...   \n",
       "18626   wonderlust years left school started notice ch...   \n",
       "89118   zoom zoom skin slow baby rush touch videos sto...   \n",
       "111258  foolish dreamer care happiness waiting searchi...   \n",
       "\n",
       "                                           stemmed_lyrics  english_percentage  \n",
       "108095  dollar wed suppos held day invit young bride g...            0.940000  \n",
       "15427   wed suppos held day invit young bride groom pe...            0.920000  \n",
       "86778   sun born kill mad sun creat man pervers ironi ...            0.862069  \n",
       "140335  start earth star day dark beat heart sun sin g...            1.000000  \n",
       "75833   young dro yall ecstasi dis grand hustl aye n*g...            0.680000  \n",
       "...                                                   ...                 ...  \n",
       "72775   danc borderlin static fight war dwell hypocris...            0.880000  \n",
       "29751   war drug war brave land free plant freedom rin...            0.640000  \n",
       "18626   wonderlust year left school start notic chang ...            0.780000  \n",
       "89118   zoom zoom skin slow babi rush touch video stor...            0.885714  \n",
       "111258  foolish dreamer care happi wait search silver ...            0.897959  \n",
       "\n",
       "[10264 rows x 15 columns]"
      ]
     },
     "execution_count": 16,
     "metadata": {},
     "output_type": "execute_result"
    }
   ],
   "source": [
    "#CASE 1: Two songs are the same (Count 5430)\n",
    "song_dupes = df.groupby(\"cleaned_song\").filter(lambda x: len(x) == 2) ##only keep songs that have one duplicate\n",
    "print(len(song_dupes)/2)\n",
    "song_dupes.sort_values(\"cleaned_song\")"
   ]
  },
  {
   "cell_type": "code",
   "execution_count": 17,
   "id": "3842bb9c",
   "metadata": {},
   "outputs": [],
   "source": [
    "shifted = song_dupes.sort_values(\"year\").groupby('cleaned_song').shift(1)\n",
    "song_dupes_comp = song_dupes.join(shifted.rename(columns=lambda x: x+\"_lag\")).sort_values(\"cleaned_song\")\n",
    "song_dupes_comp = song_dupes_comp[['cleaned_song', 'Lyrics', 'Lyrics_lag', 'cleaned_band', 'cleaned_band_lag', 'year', 'year_lag', 'cleaned_lyrics', 'cleaned_lyrics_lag']].dropna()"
   ]
  },
  {
   "cell_type": "code",
   "execution_count": 18,
   "id": "9163886e",
   "metadata": {},
   "outputs": [
    {
     "data": {
      "text/html": [
       "<div>\n",
       "<style scoped>\n",
       "    .dataframe tbody tr th:only-of-type {\n",
       "        vertical-align: middle;\n",
       "    }\n",
       "\n",
       "    .dataframe tbody tr th {\n",
       "        vertical-align: top;\n",
       "    }\n",
       "\n",
       "    .dataframe thead th {\n",
       "        text-align: right;\n",
       "    }\n",
       "</style>\n",
       "<table border=\"1\" class=\"dataframe\">\n",
       "  <thead>\n",
       "    <tr style=\"text-align: right;\">\n",
       "      <th></th>\n",
       "      <th>cleaned_song</th>\n",
       "      <th>Lyrics</th>\n",
       "      <th>Lyrics_lag</th>\n",
       "      <th>cleaned_band</th>\n",
       "      <th>cleaned_band_lag</th>\n",
       "      <th>year</th>\n",
       "      <th>year_lag</th>\n",
       "      <th>cleaned_lyrics</th>\n",
       "      <th>cleaned_lyrics_lag</th>\n",
       "    </tr>\n",
       "  </thead>\n",
       "  <tbody>\n",
       "    <tr>\n",
       "      <th>15427</th>\n",
       "      <td>1000wedding</td>\n",
       "      <td>It was a $1000 wedding supposed to be held the...</td>\n",
       "      <td>Was one thousand dollars wedding, supposed to ...</td>\n",
       "      <td>willienelson</td>\n",
       "      <td>gramparsons</td>\n",
       "      <td>2006</td>\n",
       "      <td>1974.0</td>\n",
       "      <td>wedding supposed held day invitations young br...</td>\n",
       "      <td>dollars wedding supposed held day invitations ...</td>\n",
       "    </tr>\n",
       "    <tr>\n",
       "      <th>140335</th>\n",
       "      <td>100suns</td>\n",
       "      <td>I believe in nothing\\nNot the end and not the ...</td>\n",
       "      <td>A hundred suns, born to kill\\nIt is madness, a...</td>\n",
       "      <td>30secondstomars</td>\n",
       "      <td>caliban</td>\n",
       "      <td>2009</td>\n",
       "      <td>2004.0</td>\n",
       "      <td>start earth stars day dark beating hearts suns...</td>\n",
       "      <td>suns born kill madness sun created man pervers...</td>\n",
       "    </tr>\n",
       "    <tr>\n",
       "      <th>108612</th>\n",
       "      <td>100yarddash</td>\n",
       "      <td>I tried to run but couldn't get too far\\nMy he...</td>\n",
       "      <td>Young Dro\\nY'all already know what it is when ...</td>\n",
       "      <td>raphaelsaadiq</td>\n",
       "      <td>youngdro</td>\n",
       "      <td>2008</td>\n",
       "      <td>2006.0</td>\n",
       "      <td>heart bumpin runnin place matter hard touch lo...</td>\n",
       "      <td>young dro yall ecstasy dis grand hustle aye n*...</td>\n",
       "    </tr>\n",
       "    <tr>\n",
       "      <th>80128</th>\n",
       "      <td>1015saturdaynight</td>\n",
       "      <td>10:15 on a Saturday night\\nAnd the tap\\nDrips ...</td>\n",
       "      <td>10.15\\n10.15\\nSaturday night\\nSaturday night\\n...</td>\n",
       "      <td>thelivingend</td>\n",
       "      <td>thecure</td>\n",
       "      <td>1998</td>\n",
       "      <td>1978.0</td>\n",
       "      <td>saturday night tap drips streetlight sitting k...</td>\n",
       "      <td>saturday night saturday night tap drips tap dr...</td>\n",
       "    </tr>\n",
       "    <tr>\n",
       "      <th>69907</th>\n",
       "      <td>11Jul</td>\n",
       "      <td>I met her at the 7-11\\nNow I'm in seventh heav...</td>\n",
       "      <td>I met her at the 7-11\\nNow I'm in seventh heav...</td>\n",
       "      <td>thepostmarks</td>\n",
       "      <td>ramones</td>\n",
       "      <td>2008</td>\n",
       "      <td>1981.0</td>\n",
       "      <td>met seventh heaven true thought meet girl stan...</td>\n",
       "      <td>met seventh heaven true thought meet girl stan...</td>\n",
       "    </tr>\n",
       "  </tbody>\n",
       "</table>\n",
       "</div>"
      ],
      "text/plain": [
       "             cleaned_song                                             Lyrics  \\\n",
       "15427         1000wedding  It was a $1000 wedding supposed to be held the...   \n",
       "140335            100suns  I believe in nothing\\nNot the end and not the ...   \n",
       "108612        100yarddash  I tried to run but couldn't get too far\\nMy he...   \n",
       "80128   1015saturdaynight  10:15 on a Saturday night\\nAnd the tap\\nDrips ...   \n",
       "69907               11Jul  I met her at the 7-11\\nNow I'm in seventh heav...   \n",
       "\n",
       "                                               Lyrics_lag     cleaned_band  \\\n",
       "15427   Was one thousand dollars wedding, supposed to ...     willienelson   \n",
       "140335  A hundred suns, born to kill\\nIt is madness, a...  30secondstomars   \n",
       "108612  Young Dro\\nY'all already know what it is when ...    raphaelsaadiq   \n",
       "80128   10.15\\n10.15\\nSaturday night\\nSaturday night\\n...     thelivingend   \n",
       "69907   I met her at the 7-11\\nNow I'm in seventh heav...     thepostmarks   \n",
       "\n",
       "       cleaned_band_lag  year  year_lag  \\\n",
       "15427       gramparsons  2006    1974.0   \n",
       "140335          caliban  2009    2004.0   \n",
       "108612         youngdro  2008    2006.0   \n",
       "80128           thecure  1998    1978.0   \n",
       "69907           ramones  2008    1981.0   \n",
       "\n",
       "                                           cleaned_lyrics  \\\n",
       "15427   wedding supposed held day invitations young br...   \n",
       "140335  start earth stars day dark beating hearts suns...   \n",
       "108612  heart bumpin runnin place matter hard touch lo...   \n",
       "80128   saturday night tap drips streetlight sitting k...   \n",
       "69907   met seventh heaven true thought meet girl stan...   \n",
       "\n",
       "                                       cleaned_lyrics_lag  \n",
       "15427   dollars wedding supposed held day invitations ...  \n",
       "140335  suns born kill madness sun created man pervers...  \n",
       "108612  young dro yall ecstasy dis grand hustle aye n*...  \n",
       "80128   saturday night saturday night tap drips tap dr...  \n",
       "69907   met seventh heaven true thought meet girl stan...  "
      ]
     },
     "execution_count": 18,
     "metadata": {},
     "output_type": "execute_result"
    }
   ],
   "source": [
    "song_dupes_comp.sort_values(\"cleaned_song\").head()"
   ]
  },
  {
   "cell_type": "code",
   "execution_count": 19,
   "id": "35560350",
   "metadata": {},
   "outputs": [],
   "source": [
    "def one_hot_encoding(str_col: pd.Series,  max_features: int, ngram: str):\n",
    "    \"\"\"\n",
    "    input:  str_col - pd.Series -> a column of strings\n",
    "            ngram   - String    -> ngram option for bigrams\n",
    "    output: tuple     -> np.SparseMatrix with one-hot-encoding representation, tokenized and joined list of strings\n",
    "            ex. ([[1,0,1], [0,0,1]], [\"red,blue\",\"blue\"])\n",
    "\n",
    "    vectorizer.inverse_transform() returns a tokenized np.array of tokens.\n",
    "    ex.  returns -> ['document,first,is,the,this',\n",
    "             'document,is,second,the,this',\n",
    "             'and,is,one,the,third,this',\n",
    "             'document,first,is,the,this']\n",
    "    \"\"\"\n",
    "    if ngram == \"bigram\":\n",
    "        ngram_range = (2, 2)\n",
    "    else:\n",
    "        ngram_range = (1, 1)\n",
    "\n",
    "    list_col = str_col.tolist()\n",
    "    # COMMENT: could add token_pattern = r\"\\(.*?\\)|([^\\W_]+[^\\s-]*)\"\n",
    "    # COMMENT: sklearn.CountVectorizer -> Removes stop words and punctuation and represents words as list of counts\n",
    "    vectorizer = CountVectorizer(stop_words=\"english\",\n",
    "                                 binary=True,\n",
    "                                 max_features=max_features,\n",
    "                                 ngram_range=ngram_range).fit(list_col)\n",
    "\n",
    "    x = vectorizer.transform(list_col)\n",
    "    tokenized = [\",\".join(token_array) for token_array in vectorizer.inverse_transform(x.toarray())]\n",
    "\n",
    "    return x, tokenized"
   ]
  },
  {
   "cell_type": "code",
   "execution_count": 20,
   "id": "4c7cc538",
   "metadata": {},
   "outputs": [],
   "source": [
    "def find_lyric_similarity(lyric1_col: pd.Series, lyric2_col: pd.Series):\n",
    "    lyrics = pd.concat(\n",
    "        [lyric1_col.reset_index(drop=True), lyric2_col.reset_index(drop=True)],\n",
    "        ignore_index=True)\n",
    "    encoded_lyrics = one_hot_encoding(lyrics, ngram='unigram', max_features = None)[0].toarray()\n",
    "\n",
    "    lyrics_1 = encoded_lyrics[0:len(lyric1_col)]\n",
    "    lyrics_2 = encoded_lyrics[len(lyric1_col):]\n",
    "\n",
    "    cosine_scores = []\n",
    "    for i in range(lyrics_1.shape[0]):\n",
    "        score = cosine_similarity([lyrics_1[i]], [lyrics_2[i]])[0]\n",
    "        cosine_scores.append(score)\n",
    "\n",
    "    return cosine_scores"
   ]
  },
  {
   "cell_type": "code",
   "execution_count": 21,
   "id": "288822ca",
   "metadata": {},
   "outputs": [
    {
     "data": {
      "text/html": [
       "<div>\n",
       "<style scoped>\n",
       "    .dataframe tbody tr th:only-of-type {\n",
       "        vertical-align: middle;\n",
       "    }\n",
       "\n",
       "    .dataframe tbody tr th {\n",
       "        vertical-align: top;\n",
       "    }\n",
       "\n",
       "    .dataframe thead th {\n",
       "        text-align: right;\n",
       "    }\n",
       "</style>\n",
       "<table border=\"1\" class=\"dataframe\">\n",
       "  <thead>\n",
       "    <tr style=\"text-align: right;\">\n",
       "      <th></th>\n",
       "      <th>cleaned_song</th>\n",
       "      <th>Lyrics</th>\n",
       "      <th>Lyrics_lag</th>\n",
       "      <th>cleaned_band</th>\n",
       "      <th>cleaned_band_lag</th>\n",
       "      <th>year</th>\n",
       "      <th>year_lag</th>\n",
       "      <th>cleaned_lyrics</th>\n",
       "      <th>cleaned_lyrics_lag</th>\n",
       "      <th>score</th>\n",
       "    </tr>\n",
       "  </thead>\n",
       "  <tbody>\n",
       "    <tr>\n",
       "      <th>15427</th>\n",
       "      <td>1000wedding</td>\n",
       "      <td>It was a $1000 wedding supposed to be held the...</td>\n",
       "      <td>Was one thousand dollars wedding, supposed to ...</td>\n",
       "      <td>willienelson</td>\n",
       "      <td>gramparsons</td>\n",
       "      <td>2006</td>\n",
       "      <td>1974.0</td>\n",
       "      <td>wedding supposed held day invitations young br...</td>\n",
       "      <td>dollars wedding supposed held day invitations ...</td>\n",
       "      <td>[0.9752399172382473]</td>\n",
       "    </tr>\n",
       "    <tr>\n",
       "      <th>69907</th>\n",
       "      <td>11Jul</td>\n",
       "      <td>I met her at the 7-11\\nNow I'm in seventh heav...</td>\n",
       "      <td>I met her at the 7-11\\nNow I'm in seventh heav...</td>\n",
       "      <td>thepostmarks</td>\n",
       "      <td>ramones</td>\n",
       "      <td>2008</td>\n",
       "      <td>1981.0</td>\n",
       "      <td>met seventh heaven true thought meet girl stan...</td>\n",
       "      <td>met seventh heaven true thought meet girl stan...</td>\n",
       "      <td>[0.9999999999999999]</td>\n",
       "    </tr>\n",
       "    <tr>\n",
       "      <th>62314</th>\n",
       "      <td>1999</td>\n",
       "      <td>I was dreamin' when I wrote this\\nForgive me i...</td>\n",
       "      <td>I was dreamin' when I wrote this\\nForgive me i...</td>\n",
       "      <td>themikeflowerspops</td>\n",
       "      <td>prince</td>\n",
       "      <td>1996</td>\n",
       "      <td>1993.0</td>\n",
       "      <td>dreamin wrote forgive astray woke mornin sworn...</td>\n",
       "      <td>dreamin wrote forgive astray woke mornin sworn...</td>\n",
       "      <td>[1.0]</td>\n",
       "    </tr>\n",
       "    <tr>\n",
       "      <th>29421</th>\n",
       "      <td>22steps</td>\n",
       "      <td>If I were him\\nI'd know your birthday\\nJust wh...</td>\n",
       "      <td>If I were him,\\nI'd know your birthday.\\nJust ...</td>\n",
       "      <td>damienleith</td>\n",
       "      <td>andystochansky</td>\n",
       "      <td>2007</td>\n",
       "      <td>2002.0</td>\n",
       "      <td>birthday colors wear buy bikes ride sundays re...</td>\n",
       "      <td>birthday colors wear buy bikes ride sundays re...</td>\n",
       "      <td>[0.959166304662544]</td>\n",
       "    </tr>\n",
       "    <tr>\n",
       "      <th>132279</th>\n",
       "      <td>2hb</td>\n",
       "      <td>Oh I was moved by your screen dream\\nCelluloid...</td>\n",
       "      <td>Oh I was moved by your screen dream\\nCelluloid...</td>\n",
       "      <td>roxymusic</td>\n",
       "      <td>bryanferry</td>\n",
       "      <td>1995</td>\n",
       "      <td>1976.0</td>\n",
       "      <td>moved screen dream celluloid pictures living d...</td>\n",
       "      <td>moved screen dream celluloid pictures living d...</td>\n",
       "      <td>[1.0000000000000002]</td>\n",
       "    </tr>\n",
       "  </tbody>\n",
       "</table>\n",
       "</div>"
      ],
      "text/plain": [
       "       cleaned_song                                             Lyrics  \\\n",
       "15427   1000wedding  It was a $1000 wedding supposed to be held the...   \n",
       "69907         11Jul  I met her at the 7-11\\nNow I'm in seventh heav...   \n",
       "62314          1999  I was dreamin' when I wrote this\\nForgive me i...   \n",
       "29421       22steps  If I were him\\nI'd know your birthday\\nJust wh...   \n",
       "132279          2hb  Oh I was moved by your screen dream\\nCelluloid...   \n",
       "\n",
       "                                               Lyrics_lag        cleaned_band  \\\n",
       "15427   Was one thousand dollars wedding, supposed to ...        willienelson   \n",
       "69907   I met her at the 7-11\\nNow I'm in seventh heav...        thepostmarks   \n",
       "62314   I was dreamin' when I wrote this\\nForgive me i...  themikeflowerspops   \n",
       "29421   If I were him,\\nI'd know your birthday.\\nJust ...         damienleith   \n",
       "132279  Oh I was moved by your screen dream\\nCelluloid...           roxymusic   \n",
       "\n",
       "       cleaned_band_lag  year  year_lag  \\\n",
       "15427       gramparsons  2006    1974.0   \n",
       "69907           ramones  2008    1981.0   \n",
       "62314            prince  1996    1993.0   \n",
       "29421    andystochansky  2007    2002.0   \n",
       "132279       bryanferry  1995    1976.0   \n",
       "\n",
       "                                           cleaned_lyrics  \\\n",
       "15427   wedding supposed held day invitations young br...   \n",
       "69907   met seventh heaven true thought meet girl stan...   \n",
       "62314   dreamin wrote forgive astray woke mornin sworn...   \n",
       "29421   birthday colors wear buy bikes ride sundays re...   \n",
       "132279  moved screen dream celluloid pictures living d...   \n",
       "\n",
       "                                       cleaned_lyrics_lag  \\\n",
       "15427   dollars wedding supposed held day invitations ...   \n",
       "69907   met seventh heaven true thought meet girl stan...   \n",
       "62314   dreamin wrote forgive astray woke mornin sworn...   \n",
       "29421   birthday colors wear buy bikes ride sundays re...   \n",
       "132279  moved screen dream celluloid pictures living d...   \n",
       "\n",
       "                       score  \n",
       "15427   [0.9752399172382473]  \n",
       "69907   [0.9999999999999999]  \n",
       "62314                  [1.0]  \n",
       "29421    [0.959166304662544]  \n",
       "132279  [1.0000000000000002]  "
      ]
     },
     "execution_count": 21,
     "metadata": {},
     "output_type": "execute_result"
    }
   ],
   "source": [
    "## COMMENT: True Covers\n",
    "song_dupes_comp['score'] = find_lyric_similarity(song_dupes_comp['cleaned_lyrics'], song_dupes_comp['cleaned_lyrics_lag'])\n",
    "song_dupes_comp[song_dupes_comp['score']>.95].head() ## COMMENT: 596 songs are actual covers"
   ]
  },
  {
   "cell_type": "code",
   "execution_count": 22,
   "id": "e20f2a18",
   "metadata": {},
   "outputs": [
    {
     "name": "stdout",
     "output_type": "stream",
     "text": [
      "Found 578 Song Cover duplicates\n"
     ]
    },
    {
     "data": {
      "text/plain": [
       "85355"
      ]
     },
     "execution_count": 22,
     "metadata": {},
     "output_type": "execute_result"
    }
   ],
   "source": [
    "unique = df.merge(song_dupes_comp[song_dupes_comp['score']>.95], how='left')\n",
    "print(f\"Found {len(unique[~unique['Lyrics_lag'].isnull()])} Song Cover duplicates\")\n",
    "unique = unique[unique['Lyrics_lag'].isnull()]\n",
    "len(unique)"
   ]
  },
  {
   "cell_type": "markdown",
   "id": "081de26a",
   "metadata": {},
   "source": [
    "### 2.2 Pre-Processing for Market Basket Analysis (MBA) - \"only_popular_word\" column"
   ]
  },
  {
   "cell_type": "code",
   "execution_count": 23,
   "id": "1b6df589",
   "metadata": {},
   "outputs": [],
   "source": [
    "flatlist = [list(set(sublist.split())) for sublist in unique['cleaned_lyrics'].tolist()]\n",
    "flatlist = [item for sublist in flatlist for item in sublist]\n",
    "## word count\n",
    "\n",
    "word_count = dict(Counter(flatlist))\n",
    "word_count = dict(sorted(word_count.items(), key=lambda x: x[1], reverse=True))"
   ]
  },
  {
   "cell_type": "code",
   "execution_count": 24,
   "id": "894966b2",
   "metadata": {},
   "outputs": [
    {
     "data": {
      "image/png": "[encoded data removed]",
      "text/plain": [
       "<Figure size 720x504 with 1 Axes>"
      ]
     },
     "metadata": {
      "needs_background": "light"
     },
     "output_type": "display_data"
    },
    {
     "name": "stderr",
     "output_type": "stream",
     "text": [
      "C:\\Users\\18438\\AppData\\Local\\Programs\\Python\\Python39\\lib\\site-packages\\seaborn\\distributions.py:2619: FutureWarning: `distplot` is a deprecated function and will be removed in a future version. Please adapt your code to use either `displot` (a figure-level function with similar flexibility) or `histplot` (an axes-level function for histograms).\n",
      "  warnings.warn(msg, FutureWarning)\n"
     ]
    },
    {
     "data": {
      "text/plain": [
       "0.8924"
      ]
     },
     "execution_count": 24,
     "metadata": {},
     "output_type": "execute_result"
    },
    {
     "data": {
      "image/png": "[encoded data removed]",
      "text/plain": [
       "<Figure size 720x504 with 1 Axes>"
      ]
     },
     "metadata": {
      "needs_background": "light"
     },
     "output_type": "display_data"
    }
   ],
   "source": [
    "## For the purpose of graph\n",
    "## Top 20 words-First graph\n",
    "pop_words_graph = more_itertools.take(20, word_count.items())\n",
    "plt.figure(figsize=(10,7))\n",
    "x_val = [x[0] for x in pop_words_graph]\n",
    "y_val = [x[1] for x in pop_words_graph]\n",
    "plt.barh(x_val,y_val, color='#6495ED')\n",
    "plt.xlabel(\"Occurance\")\n",
    "plt.gca().invert_yaxis()\n",
    "plt.rc('font', size=10) \n",
    "plt.show()\n",
    "\n",
    "\n",
    "# Second graph\n",
    "pop_words_graph = more_itertools.take(10000, word_count.items())\n",
    "x = pd.Series([i[1] for i in pop_words_graph])\n",
    "plt.figure(figsize=(10,7))\n",
    "ax = sns.distplot(x, bins=50, kde=True, hist_kws=dict(color= \"#0000FF\", edgecolor=\"white\", linewidth=2),\\\n",
    "                 kde_kws=dict(color= \"orange\", linewidth=2))\n",
    "plt.xticks([600, 5000, 10000, 20000, 30000])\n",
    "plt.xlabel(\"Occurance\")\n",
    "\n",
    "\n",
    "less_1000 = len([i for i in x if i<600])\n",
    "less_1000/len(x)"
   ]
  },
  {
   "cell_type": "code",
   "execution_count": 25,
   "id": "9efe6bde",
   "metadata": {},
   "outputs": [],
   "source": [
    "## top 1200 words list is saved\n",
    "## 1200 seems the good threshhold\n",
    "\n",
    "pop_words_selected = more_itertools.take(1200, word_count.items())\n",
    "pop_words_selected = [x[0] for x in pop_words_selected]\n",
    "\n",
    "with open('../output/word_list.csv', mode='w') as word_file:\n",
    "    word_file = csv.writer(word_file, delimiter=',', quotechar='\"', quoting=csv.QUOTE_ALL)\n",
    "    word_file.writerow(pop_words_selected)"
   ]
  },
  {
   "cell_type": "code",
   "execution_count": 26,
   "id": "85b9e951",
   "metadata": {},
   "outputs": [],
   "source": [
    "    ## select lyrics that have the top words\n",
    "def popular_words(row, popular):\n",
    "\n",
    "        return [w for w in row.split() if w in popular]\n",
    "    \n",
    "unique['only_popular_word'] = unique.apply(lambda x: popular_words(x['cleaned_lyrics'], pop_words_selected), axis=1)"
   ]
  },
  {
   "cell_type": "markdown",
   "id": "8db95b0a",
   "metadata": {},
   "source": [
    "## 3. Picking Anchor Words"
   ]
  },
  {
   "cell_type": "code",
   "execution_count": 27,
   "id": "0848c0c2",
   "metadata": {},
   "outputs": [],
   "source": [
    "#COMMENT: Models changed on different time-periods\n",
    "period_1 = unique[unique['year'] < 1983]\n",
    "period_2 = unique[(unique['year'] >= 1983) & (unique['year'] <=1991)]\n",
    "period_3 = unique[(unique['year'] > 1991)]"
   ]
  },
  {
   "cell_type": "code",
   "execution_count": 39,
   "id": "04023cf2",
   "metadata": {},
   "outputs": [],
   "source": [
    "def get_top_n(flatlist, n):\n",
    "    ## word count\n",
    "    word_count = Counter(flatlist)\n",
    "    word_count = dict(sorted(word_count.items(), key=lambda x: x[1], reverse=True))\n",
    "\n",
    "    top_100 = list(word_count.keys())[0:(n-1)]\n",
    "    \n",
    "    return top_100\n",
    "    \n",
    "flat_p1 = list(itertools.chain(*[lyrics.split() for lyrics in period_1['cleaned_lyrics'].tolist()]))\n",
    "flat_p2 = list(itertools.chain(*[lyrics.split() for lyrics in period_2['cleaned_lyrics'].tolist()]))\n",
    "flat_p3 = list(itertools.chain(*[lyrics.split() for lyrics in period_3['cleaned_lyrics'].tolist()]))\n",
    "\n",
    "top_100_p1 = get_top_n(flat_p1, 250)\n",
    "top_100_p2 = get_top_n(flat_p2, 250)\n",
    "top_100_p3 = get_top_n(flat_p3, 250)\n",
    "\n",
    "top_i = 0\n",
    "j = 0\n",
    "top_100_words = []\n",
    "while top_i < 100:\n",
    "    if (top_100_p1[j] in top_100_p2) and (top_100_p1[j] in top_100_p2):\n",
    "        top_100_words.append(top_100_p1[j])\n",
    "        top_i+=1\n",
    "    j += 1\n",
    "\n",
    "X = set(top_100_p1).intersection(top_100_p2).intersection(top_100_p3)"
   ]
  },
  {
   "cell_type": "code",
   "execution_count": 40,
   "id": "61b19f71",
   "metadata": {},
   "outputs": [],
   "source": [
    "anchor_words = top_100_words"
   ]
  },
  {
   "cell_type": "markdown",
   "id": "a7e2be06",
   "metadata": {},
   "source": [
    "## 4. Co-Occurence (counted weighting)"
   ]
  },
  {
   "cell_type": "code",
   "execution_count": 31,
   "id": "4c37e5d0",
   "metadata": {},
   "outputs": [],
   "source": [
    "output_df = pd.DataFrame()"
   ]
  },
  {
   "cell_type": "code",
   "execution_count": 32,
   "id": "a4558182",
   "metadata": {},
   "outputs": [],
   "source": [
    "## Flat list for periods\n",
    "flatList_p1 = list(period_1[\"only_popular_word\"])\n",
    "flatList_p2 = list(period_2[\"only_popular_word\"])\n",
    "flatList_p3 = list(period_3[\"only_popular_word\"])\n",
    "\n",
    "period_map = {1: \"Before 1983\", 2: \"Between 1983 and 1991\", 3: \"After 1991\"}"
   ]
  },
  {
   "cell_type": "code",
   "execution_count": 33,
   "id": "70faf2ff",
   "metadata": {},
   "outputs": [],
   "source": [
    "## Cout co occurances in period 1\n",
    "\n",
    "scaler = MinMaxScaler()\n",
    "def cooccurrence(items):\n",
    "    \"\"\"\n",
    "    Updates a dictionary of pair counts for\n",
    "    all pairs of items in a given itemset.\n",
    "    \"\"\"\n",
    "    pair_counts = defaultdict(int)\n",
    "    for item in items:\n",
    "        for (a, b) in itertools.combinations(item, 2):\n",
    "            if a != b:\n",
    "                sorted_comb = sorted((a,b))\n",
    "                tuple_comb = tuple(sorted_comb)\n",
    "\n",
    "                pair_counts[tuple_comb] += 1\n",
    "\n",
    "    return pair_counts\n",
    "\n",
    "for i, period in enumerate([flatList_p1, flatList_p2, flatList_p3]):\n",
    "    cooccurrence_dict = cooccurrence(period)\n",
    "    first_word = [w1 for w1,w2 in cooccurrence_dict.keys()]\n",
    "    second_word = [w2 for w1,w2 in cooccurrence_dict.keys()]\n",
    "    df = pd.DataFrame({'first_word':first_word\n",
    "                  , 'second_word': second_word\n",
    "                  , 'weight': list(cooccurrence_dict.values())})\n",
    "    \n",
    "    df['scaled_weight'] = scaler.fit_transform(df[['weight']])\n",
    "    df['method'] = 'Co-Occurrence by Count'\n",
    "    df['period'] = period_map[i+1]\n",
    "    \n",
    "    df.to_csv(f'../output/node_edge_p{i+1}.csv', index=False)\n",
    "    output_df = pd.concat([output_df, df], ignore_index=False)"
   ]
  },
  {
   "cell_type": "markdown",
   "id": "c7d54f73",
   "metadata": {},
   "source": [
    "## 5. Co-Occurrence (MBA support weighting)"
   ]
  },
  {
   "cell_type": "code",
   "execution_count": 34,
   "id": "d98b0ca8",
   "metadata": {},
   "outputs": [],
   "source": [
    "from apyori import apriori"
   ]
  },
  {
   "cell_type": "code",
   "execution_count": 36,
   "id": "ccebf0fb",
   "metadata": {},
   "outputs": [],
   "source": [
    "\n",
    "for i, period in enumerate([flatList_p1, flatList_p2, flatList_p3]):\n",
    "    algo = apriori(period, min_support=0.001, min_confidence=0.001, min_lift=2, max_length=2)\n",
    "    results = list(algo)\n",
    "\n",
    "    ## pd.DataFrame(results) and save\n",
    "    association_rule = pd.DataFrame(results).sort_values(by=['support'], ascending=False)\n",
    "    first_word = []\n",
    "    second_word = []\n",
    "    for _, row in association_rule.iterrows():\n",
    "        w1, w2 = tuple(row['items'])\n",
    "        first_word.append(w1)\n",
    "        second_word.append(w2)\n",
    "    df = pd.DataFrame({'first_word': first_word, 'second_word': second_word, 'weight': association_rule.support})\n",
    "    \n",
    "    df['scaled_weight'] = scaler.fit_transform(df[['weight']])\n",
    "    df['method'] = 'Co-Occurence MBA'\n",
    "    df['period'] = period_map[i+1]\n",
    "    \n",
    "    df.sort_values(by='weight', ascending=False).to_csv(f'../output/association_rule_P{i+1}.csv', index=False)   \n",
    "    output_df = pd.concat([output_df, df], ignore_index=False)"
   ]
  },
  {
   "cell_type": "markdown",
   "id": "3ab181a3",
   "metadata": {},
   "source": [
    "## 6. kNN - Cosine Similarity of Word2Vec Vectors"
   ]
  },
  {
   "cell_type": "code",
   "execution_count": 37,
   "id": "df03d729",
   "metadata": {},
   "outputs": [],
   "source": [
    "from gensim.models import Word2Vec\n",
    "from gensim.test.utils import common_texts"
   ]
  },
  {
   "cell_type": "code",
   "execution_count": 41,
   "id": "28dd209b",
   "metadata": {},
   "outputs": [],
   "source": [
    "## LINK: https://radimrehurek.com/gensim/models/word2vec.html\n",
    "for i, period in enumerate([period_1, period_2, period_3]):\n",
    "    lyric_list = [song_lyrics.split() for song_lyrics in period['cleaned_lyrics'].tolist()]\n",
    "    model = Word2Vec(sentences=lyric_list, vector_size=300, window=5, min_count=1, workers=4)\n",
    "\n",
    "    vocab = set(anchor_words)\n",
    "    for word in anchor_words:\n",
    "        word2vec_top = model.wv.most_similar(word, topn=10)\n",
    "        vocab = vocab.union([w for w,p in word2vec_top])\n",
    "\n",
    "    rows = []\n",
    "    for (a, b) in itertools.combinations(vocab, 2):\n",
    "        if a != b:\n",
    "            weight = model.wv.similarity(a,b)\n",
    "            rows.append([a,b,weight])\n",
    "\n",
    "    word2vec_df = pd.DataFrame(rows, columns=['first_word', 'second_word', 'weight'])\n",
    "    \n",
    "\n",
    "    ##word2vec_df = word2vec_df[word2vec_df['weight']>.75]\n",
    "    word2vec_df['scaled_weight'] = scaler.fit_transform(word2vec_df[['weight']])\n",
    "    \n",
    "    word2vec_df.to_csv(f\"../output/word2vec_p{i+1}.csv\", index=False)\n",
    "    word2vec_df['method'] = 'Word2Vec Cosine Similarity'\n",
    "    word2vec_df['period'] = period_map[i+1]\n",
    "    \n",
    "    \n",
    "    output_df = pd.concat([output_df, word2vec_df], ignore_index=False)"
   ]
  },
  {
   "cell_type": "markdown",
   "id": "8af6a7f9",
   "metadata": {},
   "source": [
    "# 7. Thresholding"
   ]
  },
  {
   "cell_type": "code",
   "execution_count": 42,
   "id": "6a7d5f64",
   "metadata": {},
   "outputs": [],
   "source": [
    "def get_top_nodes(df, limit):\n",
    "    counter = 0\n",
    "    vocab = []\n",
    "\n",
    "    for i, row in df.sort_values('scaled_weight', ascending=False).iterrows():\n",
    "        first_word = row['first_word']\n",
    "        second_word = row['second_word']\n",
    "        \n",
    "        if first_word not in vocab:\n",
    "            vocab.append(first_word)\n",
    "            counter+=1\n",
    "        \n",
    "        if second_word not in vocab:\n",
    "            vocab.append(second_word)\n",
    "            counter+=1\n",
    "        \n",
    "        if counter >= limit:\n",
    "            return vocab\n",
    "    \n",
    "def get_top_edges(node_list, df):\n",
    "    return df[df['first_word'].isin(node_list) & df['second_word'].isin(node_list)]\n",
    "\n",
    "\n",
    "def get_edges_for_word(word, df):\n",
    "    top_word_edges = pd.DataFrame()\n",
    "    for period in df.period.unique():\n",
    "        for method in df.method.unique():\n",
    "            sub_df = df[(df.method==method) & (df.period==period)]\n",
    "            sub_df = sub_df[(sub_df.first_word==word) | (sub_df.second_word==word)]\n",
    "            sub_df = sub_df.sort_values('scaled_weight', ascending=False)[0:5]\n",
    "            top_word_edges = pd.concat([top_word_edges, sub_df], ignore_index =True)\n",
    "            \n",
    "    return top_word_edges\n",
    "\n",
    "\n",
    "def set_weight_color(threshold_df, color_probs = [.80, .90, 1]):\n",
    "    size = len(threshold_df)\n",
    "    col1 = round(size*color_probs[0])\n",
    "    col2 = round(size*color_probs[1])\n",
    "    \n",
    "    threshold_df.reset_index(inplace=True)\n",
    "    threshold_df['color'] = 'color1'\n",
    "    \n",
    "    threshold_df.loc[threshold_df.index > col1, 'color'] = 'color2'\n",
    "    threshold_df.loc[threshold_df.index > col2, 'color'] = 'color3'\n",
    "    \n",
    "    return threshold_df"
   ]
  },
  {
   "cell_type": "code",
   "execution_count": 43,
   "id": "64a844db",
   "metadata": {},
   "outputs": [],
   "source": [
    "#cooccurrence Edge Threshold 0.045845761\n",
    "threshold_df = pd.DataFrame()\n",
    "for method in output_df['method'].unique():\n",
    "    for period in output_df['period'].unique():\n",
    "        sub_df = output_df[(output_df.method==method) & (output_df.period==period)]\n",
    "        top_nodes = get_top_nodes(sub_df, 100)\n",
    "        top_edges = get_top_edges(top_nodes, sub_df).sort_values('scaled_weight', ascending=False)[0:499]\n",
    "\n",
    "        threshold_ = set_weight_color(top_edges)\n",
    "        threshold_df = pd.concat([threshold_df, threshold_], ignore_index=False)\n",
    "\n"
   ]
  },
  {
   "cell_type": "code",
   "execution_count": 44,
   "id": "4f72f19c",
   "metadata": {},
   "outputs": [],
   "source": [
    "threshold_df.to_csv(\"../output/threshold_df.csv\", index=True)"
   ]
  }
 ],
 "metadata": {
  "hide_input": false,
  "kernelspec": {
   "display_name": "Python 3 (ipykernel)",
   "language": "python",
   "name": "python3"
  },
  "language_info": {
   "codemirror_mode": {
    "name": "ipython",
    "version": 3
   },
   "file_extension": ".py",
   "mimetype": "text/x-python",
   "name": "python",
   "nbconvert_exporter": "python",
   "pygments_lexer": "ipython3",
   "version": "3.9.7"
  },
  "latex_envs": {
   "LaTeX_envs_menu_present": true,
   "autoclose": false,
   "autocomplete": true,
   "bibliofile": "biblio.bib",
   "cite_by": "apalike",
   "current_citInitial": 1,
   "eqLabelWithNumbers": true,
   "eqNumInitial": 1,
   "hotkeys": {
    "equation": "Ctrl-E",
    "itemize": "Ctrl-I"
   },
   "labels_anchors": false,
   "latex_user_defs": false,
   "report_style_numbering": false,
   "user_envs_cfg": false
  }
 },
 "nbformat": 4,
 "nbformat_minor": 5
}
